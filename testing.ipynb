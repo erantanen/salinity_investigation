{
 "cells": [
  {
   "cell_type": "code",
   "execution_count": 2,
   "id": "initial_id",
   "metadata": {
    "collapsed": true,
    "ExecuteTime": {
     "end_time": "2023-09-19T11:33:35.612996Z",
     "start_time": "2023-09-19T11:31:29.302055Z"
    }
   },
   "outputs": [],
   "source": [
    "import os\n",
    "import pandas as pd\n",
    "import csv\n",
    "import pre_proc_depth_id as pre\n",
    "\n",
    "def open_csv(proc_file):\n",
    "    # data = pre.data_to_proc(proc_file, proc_fields)\n",
    "    # this is the consolidated csv just read each line\n",
    "    data_b = os.path.join(os.getcwd(), \"input\", proc_file)\n",
    "    return pd.read_csv(data_b)\n",
    "\n",
    "\n",
    "# fields = ['date', 'lat', 'long', 'Depthm', 'T_degC', 'Salnty']\n",
    "csv_data_new = open_csv(\"data_everything.csv\")"
   ]
  },
  {
   "cell_type": "code",
   "execution_count": 10,
   "outputs": [
    {
     "data": {
      "text/plain": "          date        lat        long  Depthm  T_degC   Salnty\n102     1949-3  38.179486 -127.461452      84   9.270  33.1000\n193     1949-3  35.319012 -130.196135      87  12.660  33.2200\n257     1949-3  35.727178 -128.673613      90  11.200  33.0800\n321     1949-3  36.220640 -127.117569      82  11.370  32.9500\n353     1949-3  36.380768 -126.271532      90  11.490  33.0100\n...        ...        ...         ...     ...     ...      ...\n864713  2016-1  31.179706 -120.919346      85  12.103  33.1877\n864744  2016-1  30.846372 -121.589647      85  11.531  33.1794\n864774  2016-1  30.513039 -122.257599      88  14.546  33.1970\n864808  2016-1  30.179706 -122.923242      87  16.975  33.4372\n864840  2016-1  29.846372 -123.586614      87  16.374  33.4218\n\n[15973 rows x 6 columns]",
      "text/html": "<div>\n<style scoped>\n    .dataframe tbody tr th:only-of-type {\n        vertical-align: middle;\n    }\n\n    .dataframe tbody tr th {\n        vertical-align: top;\n    }\n\n    .dataframe thead th {\n        text-align: right;\n    }\n</style>\n<table border=\"1\" class=\"dataframe\">\n  <thead>\n    <tr style=\"text-align: right;\">\n      <th></th>\n      <th>date</th>\n      <th>lat</th>\n      <th>long</th>\n      <th>Depthm</th>\n      <th>T_degC</th>\n      <th>Salnty</th>\n    </tr>\n  </thead>\n  <tbody>\n    <tr>\n      <th>102</th>\n      <td>1949-3</td>\n      <td>38.179486</td>\n      <td>-127.461452</td>\n      <td>84</td>\n      <td>9.270</td>\n      <td>33.1000</td>\n    </tr>\n    <tr>\n      <th>193</th>\n      <td>1949-3</td>\n      <td>35.319012</td>\n      <td>-130.196135</td>\n      <td>87</td>\n      <td>12.660</td>\n      <td>33.2200</td>\n    </tr>\n    <tr>\n      <th>257</th>\n      <td>1949-3</td>\n      <td>35.727178</td>\n      <td>-128.673613</td>\n      <td>90</td>\n      <td>11.200</td>\n      <td>33.0800</td>\n    </tr>\n    <tr>\n      <th>321</th>\n      <td>1949-3</td>\n      <td>36.220640</td>\n      <td>-127.117569</td>\n      <td>82</td>\n      <td>11.370</td>\n      <td>32.9500</td>\n    </tr>\n    <tr>\n      <th>353</th>\n      <td>1949-3</td>\n      <td>36.380768</td>\n      <td>-126.271532</td>\n      <td>90</td>\n      <td>11.490</td>\n      <td>33.0100</td>\n    </tr>\n    <tr>\n      <th>...</th>\n      <td>...</td>\n      <td>...</td>\n      <td>...</td>\n      <td>...</td>\n      <td>...</td>\n      <td>...</td>\n    </tr>\n    <tr>\n      <th>864713</th>\n      <td>2016-1</td>\n      <td>31.179706</td>\n      <td>-120.919346</td>\n      <td>85</td>\n      <td>12.103</td>\n      <td>33.1877</td>\n    </tr>\n    <tr>\n      <th>864744</th>\n      <td>2016-1</td>\n      <td>30.846372</td>\n      <td>-121.589647</td>\n      <td>85</td>\n      <td>11.531</td>\n      <td>33.1794</td>\n    </tr>\n    <tr>\n      <th>864774</th>\n      <td>2016-1</td>\n      <td>30.513039</td>\n      <td>-122.257599</td>\n      <td>88</td>\n      <td>14.546</td>\n      <td>33.1970</td>\n    </tr>\n    <tr>\n      <th>864808</th>\n      <td>2016-1</td>\n      <td>30.179706</td>\n      <td>-122.923242</td>\n      <td>87</td>\n      <td>16.975</td>\n      <td>33.4372</td>\n    </tr>\n    <tr>\n      <th>864840</th>\n      <td>2016-1</td>\n      <td>29.846372</td>\n      <td>-123.586614</td>\n      <td>87</td>\n      <td>16.374</td>\n      <td>33.4218</td>\n    </tr>\n  </tbody>\n</table>\n<p>15973 rows × 6 columns</p>\n</div>"
     },
     "execution_count": 10,
     "metadata": {},
     "output_type": "execute_result"
    }
   ],
   "source": [
    "csv_data_new.head(10)\n",
    "csv_data_new.query('Depthm < 1')\n",
    "csv_data_new.query('Depthm.between(80,90)')"
   ],
   "metadata": {
    "collapsed": false,
    "ExecuteTime": {
     "end_time": "2023-09-18T21:47:41.822469600Z",
     "start_time": "2023-09-18T21:47:41.785071800Z"
    }
   },
   "id": "601d0e9e61d93a2e"
  },
  {
   "cell_type": "code",
   "execution_count": 12,
   "outputs": [
    {
     "name": "stdout",
     "output_type": "stream",
     "text": [
      "          date        lat        long  Depthm  T_degC   Salnty\n",
      "0       1949-3  38.786665 -124.073108       0  10.500  33.4400\n",
      "29      1949-3  38.499742 -125.729441       0  10.100  32.9500\n",
      "61      1949-3  38.339614 -126.595201       0  10.200  32.6300\n",
      "92      1949-3  38.179486 -127.461452       0  10.400  32.6800\n",
      "123     1949-3  37.879486 -128.118349       0  10.500  32.7500\n",
      "...        ...        ...         ...     ...     ...      ...\n",
      "864731  2016-1  30.846372 -121.589647       0  17.923  33.2135\n",
      "864762  2016-1  30.513039 -122.257599       0  17.920  33.1401\n",
      "864795  2016-1  30.179706 -122.923242       0  19.390  33.3005\n",
      "864827  2016-1  29.846372 -123.586614       0  19.556  33.2875\n",
      "864858  2016-1  32.949052 -117.273565       0  18.744  33.4083\n",
      "\n",
      "[33410 rows x 6 columns]\n"
     ]
    }
   ],
   "source": [
    "subset = csv_data_new.query('Depthm < 1')\n",
    "print(subset)"
   ],
   "metadata": {
    "collapsed": false,
    "ExecuteTime": {
     "end_time": "2023-09-18T21:59:15.663634800Z",
     "start_time": "2023-09-18T21:59:15.610580300Z"
    }
   },
   "id": "7f0a80b8fc4f7918"
  },
  {
   "cell_type": "code",
   "execution_count": null,
   "outputs": [],
   "source": [],
   "metadata": {
    "collapsed": false
   },
   "id": "9c9f5b0de211668e"
  },
  {
   "cell_type": "code",
   "execution_count": null,
   "outputs": [],
   "source": [
    "df = csv_data_new\n",
    "#cond_1 = df['Depthm'] < 1\n",
    "cond_1 = df.Depthm < 1\n",
    "cond_2 = df.date.str.startswith(\"1949\")\n",
    "#cond_3 = df.Salnty.isnull()\n",
    "cond_3 = df.Salnty.notnull()\n",
    "result = df.loc[cond_1 &  cond_2 & cond_3]\n",
    "#result = df.loc[cond_2]\n",
    "\n",
    "\n",
    "\n",
    "print(result)\n",
    "print(\"++++++++++++++++\")\n",
    "print(len(result.index))"
   ],
   "metadata": {
    "collapsed": false
   },
   "id": "e98a607a4619ff7e"
  },
  {
   "cell_type": "code",
   "execution_count": 88,
   "outputs": [
    {
     "name": "stdout",
     "output_type": "stream",
     "text": [
      "         date        lat        long  Depthm  T_degC  Salnty\n",
      "7      1949-3  38.786665 -124.073108      50   10.24  33.424\n",
      "8      1949-3  38.786665 -124.073108      58   10.06  33.420\n",
      "9      1949-3  38.786665 -124.073108      75    9.86  33.494\n",
      "10     1949-3  38.786665 -124.073108      78    9.83  33.510\n",
      "11     1949-3  38.786665 -124.073108     100    9.67  33.580\n",
      "...       ...        ...         ...     ...     ...     ...\n",
      "28032  1949-1  33.903590 -120.702353     100    9.08  33.738\n",
      "28060  1949-1  33.091154 -119.051503      50   11.16  33.070\n",
      "28061  1949-1  33.091154 -119.051503      75   10.20  33.349\n",
      "28062  1949-1  33.091154 -119.051503      78   10.09  33.370\n",
      "28063  1949-1  33.091154 -119.051503     100    9.34  33.660\n",
      "\n",
      "[4167 rows x 6 columns]\n",
      "++++++++++++++++\n",
      "4167\n"
     ]
    }
   ],
   "source": [
    "df = csv_data_new\n",
    "\n",
    "depth_1 = 50\n",
    "depth_2 = 100\n",
    "\n",
    "cond_1 = df.Depthm.between(depth_1,depth_2)\n",
    "cond_2 = df.date.str.startswith(\"1949\")\n",
    "cond_3 = (df.Salnty.notnull() & df.T_degC.notnull())\n",
    "result = df.loc[cond_1 &  cond_2 & cond_3]\n",
    "\n",
    "\n",
    "\n",
    "\n",
    "print(result)\n",
    "print(\"++++++++++++++++\")\n",
    "print(len(result.index))"
   ],
   "metadata": {
    "collapsed": false,
    "ExecuteTime": {
     "end_time": "2023-09-19T21:01:16.643354600Z",
     "start_time": "2023-09-19T21:01:16.442900400Z"
    }
   },
   "id": "afd403694e03d669"
  },
  {
   "cell_type": "code",
   "execution_count": 20,
   "outputs": [
    {
     "name": "stdout",
     "output_type": "stream",
     "text": [
      "37.034\n",
      "28.431\n"
     ]
    }
   ],
   "source": [
    "#csv_data_new.head(5)\n",
    "s_min,s_max = csv_data_new['Salnty'].agg(['min','max'])\n",
    "print(s_max)\n",
    "print(s_min)"
   ],
   "metadata": {
    "collapsed": false,
    "ExecuteTime": {
     "end_time": "2023-09-19T15:01:00.628246100Z",
     "start_time": "2023-09-19T15:01:00.589319400Z"
    }
   },
   "id": "9175bfe5b09c156"
  },
  {
   "cell_type": "code",
   "execution_count": null,
   "outputs": [],
   "source": [
    "import folium\n",
    "import os\n",
    "\n",
    "\n",
    "\n",
    "cali_map = folium.Map(location=[38.78666543,-124.0731082])\n",
    "\n",
    "# csv_header = ['year', 'month', 'lat', 'long', 'Depthm', 'T_degC', 'Salnty']\n",
    "for i, r in result.iterrows():\n",
    "#for i, r in result.head(100).iterrows():\n",
    "        #setting for the popup\n",
    "    lat = r['lat']\n",
    "    long = r['long']\n",
    "    # make sure \"lat\" then \"long\"\n",
    "    # silly mistake\n",
    "    folium.Circle( (lat, long), \n",
    "                   radius=1,\n",
    "                   legend_name = \"blah\"\n",
    "                   ).add_to(cali_map)\n",
    "\n",
    "cali_map"
   ],
   "metadata": {
    "collapsed": false
   },
   "id": "226b5435d3f55b85"
  },
  {
   "cell_type": "code",
   "execution_count": 20,
   "outputs": [
    {
     "name": "stdout",
     "output_type": "stream",
     "text": [
      "1949.csv\n",
      "1950.csv\n",
      "1951.csv\n",
      "1952.csv\n",
      "1953.csv\n",
      "1954.csv\n",
      "1955.csv\n",
      "1956.csv\n",
      "1957.csv\n",
      "1958.csv\n",
      "1959.csv\n",
      "1960.csv\n",
      "1961.csv\n",
      "1962.csv\n",
      "1963.csv\n",
      "1964.csv\n",
      "1965.csv\n",
      "1966.csv\n",
      "1967.csv\n",
      "1968.csv\n",
      "1969.csv\n",
      "1970.csv\n",
      "1971.csv\n",
      "1972.csv\n",
      "1973.csv\n",
      "1974.csv\n",
      "1975.csv\n",
      "1976.csv\n",
      "1977.csv\n",
      "1978.csv\n",
      "1980.csv\n",
      "1981.csv\n",
      "1982.csv\n",
      "1983.csv\n",
      "1984.csv\n",
      "1985.csv\n",
      "1986.csv\n",
      "1987.csv\n",
      "1988.csv\n",
      "1989.csv\n",
      "1990.csv\n",
      "1991.csv\n",
      "1992.csv\n",
      "1993.csv\n",
      "1994.csv\n",
      "1995.csv\n",
      "1996.csv\n",
      "1997.csv\n",
      "1998.csv\n",
      "1999.csv\n",
      "2000.csv\n",
      "2001.csv\n",
      "2002.csv\n",
      "2003.csv\n",
      "2004.csv\n",
      "2005.csv\n",
      "2006.csv\n",
      "2007.csv\n",
      "2008.csv\n",
      "2009.csv\n",
      "2010.csv\n",
      "2011.csv\n",
      "2012.csv\n",
      "2013.csv\n",
      "2014.csv\n",
      "2015.csv\n",
      "2016.csv\n"
     ]
    }
   ],
   "source": [
    "for file in os.listdir(\"output\"):\n",
    "    print(file)"
   ],
   "metadata": {
    "collapsed": false,
    "ExecuteTime": {
     "end_time": "2023-09-18T22:15:00.098205900Z",
     "start_time": "2023-09-18T22:15:00.095209100Z"
    }
   },
   "id": "bfcdd60d0cd82c9a"
  },
  {
   "cell_type": "code",
   "execution_count": null,
   "outputs": [],
   "source": [
    "import folium\n",
    "import pandas as pd\n",
    "import folium.plugins\n",
    "import math\n",
    "import branca\n",
    "import branca.colormap as cm\n",
    "\n",
    "data = [\n",
    "    [33.823400, -118.12194, 99.23],\n",
    "    [33.823500, -118.12294, 95.23],\n",
    "    [33.823600, -118.12394, 91.23],\n",
    "    [33.823700, -118.12494, 90.00]\n",
    "]\n",
    "\n",
    "df = pd.DataFrame(data, columns=['latitude','longitude','power'])\n",
    "\n",
    "x_start = (df['latitude'].max() + df['latitude'].min()) / 2\n",
    "y_start = (df['longitude'].max() + df['longitude'].min()) / 2\n",
    "start_coord = (x_start, y_start)\n",
    "\n",
    "\n",
    "colormap = cm.LinearColormap(colors=['red','lightblue'], index=[90,100],vmin=90,vmax=100)\n",
    "\n",
    "map = folium.Map(location=start_coord, zoom_start=12)\n",
    "\n",
    "\n",
    "lat = list(df.latitude)\n",
    "lon = list(df.longitude)\n",
    "pow = list(df.power)\n",
    "\n",
    "\n",
    "for loc, p in zip(zip(lat, lon), pow):\n",
    "    folium.Circle(\n",
    "        location=loc,\n",
    "        radius=10,\n",
    "        fill=True,\n",
    "        color=colormap(p),\n",
    "        #fill_opacity=0.7\n",
    "    ).add_to(map)\n",
    "\n",
    "map.add_child(colormap)\n",
    "\n",
    "display(map)"
   ],
   "metadata": {
    "collapsed": false
   },
   "id": "c65fd11fb341eb1c"
  },
  {
   "cell_type": "code",
   "execution_count": null,
   "outputs": [],
   "source": [
    "import folium\n",
    "import pandas as pd\n",
    "import folium.plugins\n",
    "import math\n",
    "import branca\n",
    "import branca.colormap as cm\n",
    "\n",
    "# building color scale \n",
    "#s_min,s_max = csv_data_new['Salnty'].agg(['min','max'])\n",
    "s_min,s_max = result['T_degC'].agg(['min','max'])\n",
    "# adjust scale\n",
    "s_max = s_max + 1\n",
    "s_min = s_min - 1\n",
    "\n",
    "cali_map = folium.Map(location=[38.78666543,-124.0731082])\n",
    "colormap = cm.LinearColormap(colors=['yellow','black'], index=[s_min,s_max],vmin=s_min,vmax=s_max)\n",
    "\n",
    "# csv_header = ['year', 'month', 'lat', 'long', 'Depthm', 'T_degC', 'Salnty']\n",
    "for i, r in result.iterrows():\n",
    "        #setting for the popup\n",
    "    lat = r['lat']\n",
    "    long = r['long']\n",
    "    #salt = r['Salnty']   \n",
    "    salt = r['T_degC']\n",
    " \n",
    " \n",
    "    # make sure \"lat\" then \"long\"\n",
    "    # silly mistake\n",
    "    folium.Circle( (lat, long), \n",
    "                   radius=1,\n",
    "                   fill=True,\n",
    "                   color=colormap(salt) \n",
    "                   ).add_to(cali_map)\n",
    "\n",
    "cali_map.add_child(colormap)\n",
    "\n"
   ],
   "metadata": {
    "collapsed": false
   },
   "id": "72f0ac8ed99a67ac"
  },
  {
   "cell_type": "code",
   "execution_count": 90,
   "outputs": [],
   "source": [
    "\n",
    "def dots_on_a_map(df, target_inspection, year,depth):\n",
    "    import folium\n",
    "    import folium.plugins\n",
    "    import branca.colormap as cm\n",
    "    import os\n",
    "\n",
    "    # builds map structure\n",
    "    cali_map = folium.Map(location=[38.78666543, -124.0731082])\n",
    "\n",
    "    # builds color scale\n",
    "    s_min, s_max = df[target_inspection].agg(['min', 'max'])\n",
    "    # adjust scale to add slight buffer either end\n",
    "    s_max = s_max + 1\n",
    "    s_min = s_min - 1\n",
    "    \n",
    "    colormap = cm.linear.YlOrBr_09.scale(s_min, s_max)\n",
    "    colormap.caption = target_inspection + ' for '+ year + ' at ' + str(depth) + ' meters'\n",
    "\n",
    "    for i, r in df.iterrows():\n",
    "        # setting for the popup\n",
    "        lat = r['lat']\n",
    "        long = r['long']\n",
    "        to_be_inspected = r[target_inspection]\n",
    "\n",
    "        # make sure \"lat\" then \"long\"\n",
    "        # silly mistake\n",
    "        folium.Circle((lat, long),\n",
    "                      radius=1,\n",
    "                      fill=True,\n",
    "                      color=colormap(to_be_inspected)\n",
    "                      ).add_to(cali_map)\n",
    "\n",
    "    # does not work inside of function but will work in notebook\n",
    "    cali_map.add_child(colormap)\n",
    "    \n",
    "    # saving output as html \n",
    "    # saving map as png, has issues with zoom \n",
    "    fn= target_inspection + '_'+ year + '_'+ str(depth)  +'.html'\n",
    "    cali_map.save(fn)\n",
    "    \n",
    " \n",
    "    \n",
    "dots_on_a_map(result, 'Salnty','1949',depth_2)\n",
    "\n"
   ],
   "metadata": {
    "collapsed": false,
    "ExecuteTime": {
     "end_time": "2023-09-19T21:03:55.019658300Z",
     "start_time": "2023-09-19T21:03:53.179462800Z"
    }
   },
   "id": "fa8ac9ce8ea4feef"
  },
  {
   "cell_type": "code",
   "execution_count": null,
   "outputs": [],
   "source": [],
   "metadata": {
    "collapsed": false
   },
   "id": "6b3646a86102971f"
  }
 ],
 "metadata": {
  "kernelspec": {
   "display_name": "Python 3",
   "language": "python",
   "name": "python3"
  },
  "language_info": {
   "codemirror_mode": {
    "name": "ipython",
    "version": 2
   },
   "file_extension": ".py",
   "mimetype": "text/x-python",
   "name": "python",
   "nbconvert_exporter": "python",
   "pygments_lexer": "ipython2",
   "version": "2.7.6"
  }
 },
 "nbformat": 4,
 "nbformat_minor": 5
}
